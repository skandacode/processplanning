{
 "cells": [
  {
   "cell_type": "code",
   "execution_count": 11,
   "id": "86b1b786",
   "metadata": {},
   "outputs": [],
   "source": [
    "from PIL import Image\n",
    "import os\n",
    "import numpy as np\n",
    "from collections import deque\n",
    "\n",
    "already_covered = (0, 0, 0)  # Color for covered area\n",
    "possible_places = (195, 195, 195)  # Color for to cover area\n",
    "to_cover_next_layer = (0, 255, 0)  # Color for layer itself\n",
    "\n",
    "height = None\n",
    "width = None\n",
    "\n",
    "def load_image(image_path):\n",
    "    img = Image.open(image_path)\n",
    "    img = img.convert(\"RGB\")\n",
    "    img = np.array(img)\n",
    "\n",
    "    global height, width\n",
    "    height, width, _ = img.shape\n",
    "    \n",
    "    already_covered_coords = np.argwhere(np.all(img == already_covered, axis=-1))\n",
    "\n",
    "\n",
    "    possible_places_coords = np.argwhere(np.all(img == possible_places, axis=-1))\n",
    "\n",
    "\n",
    "    to_cover_next_layer_coords = np.argwhere(np.all(img == to_cover_next_layer, axis=-1))\n",
    "\n",
    "\n",
    "    return set([tuple(i.tolist()) for i in already_covered_coords]), set([tuple(i.tolist()) for i in possible_places_coords]), deque([tuple(i.tolist()) for i in to_cover_next_layer_coords])\n",
    "    \n",
    "\n",
    "already_covered_coords, possible_places_coords, to_cover_next_layer_coords = load_image(\"test.png\")"
   ]
  },
  {
   "cell_type": "code",
   "execution_count": 12,
   "id": "e8c7b86a",
   "metadata": {},
   "outputs": [
    {
     "name": "stdout",
     "output_type": "stream",
     "text": [
      "Already Covered Coordinates: set()\n",
      "possible_places_coords: {(26, 21), (63, 25), (29, 32), (60, 19), (6, 48), (33, 38), (52, 51), (64, 25), (10, 54), (56, 21), (2, 50), (22, 28), (14, 24), (49, 18), (36, 48), (15, 25), (55, 61), (48, 22), (18, 30), (59, 68), (29, 45), (40, 54), (41, 19), (33, 15), (25, 11), (44, 24), (34, 16), (25, 47), (45, 25), (86, 26), (32, 55), (37, 21), (78, 22), (43, 64), (35, 60), (26, 11), (78, 58), (79, 23), (70, 54), (71, 19), (36, 61), (9, 44), (28, 57), (29, 22), (75, 25), (21, 54), (54, 51), (33, 28), (10, 44), (14, 14), (66, 61), (67, 26), (13, 55), (59, 22), (17, 25), (36, 38), (55, 51), (28, 34), (5, 50), (58, 62), (29, 35), (21, 31), (61, 67), (60, 22), (6, 51), (52, 18), (10, 21), (54, 64), (32, 45), (43, 54), (35, 50), (47, 24), (36, 51), (82, 18), (28, 47), (29, 12), (48, 25), (21, 8), (40, 21), (33, 18), (73, 54), (74, 19), (39, 61), (12, 44), (31, 57), (32, 22), (23, 53), (22, 8), (35, 27), (66, 51), (13, 45), (32, 58), (78, 25), (24, 54), (70, 21), (16, 50), (17, 15), (36, 28), (28, 24), (68, 60), (58, 52), (63, 18), (9, 47), (29, 25), (69, 61), (62, 22), (8, 51), (11, 56), (31, 34), (54, 54), (13, 22), (32, 35), (24, 31), (16, 27), (35, 40), (55, 18), (59, 25), (46, 55), (38, 51), (17, 28), (57, 64), (49, 60), (28, 37), (58, 65), (30, 46), (50, 61), (39, 51), (85, 18), (31, 47), (23, 43), (24, 8), (51, 25), (43, 21), (35, 17), (34, 58), (24, 44), (37, 63), (16, 40), (36, 18), (77, 19), (28, 14), (80, 24), (26, 53), (38, 64), (77, 55), (69, 51), (61, 47), (81, 25), (27, 54), (73, 21), (19, 50), (11, 46), (30, 59), (31, 24), (20, 51), (66, 18), (12, 47), (32, 25), (72, 61), (16, 17), (56, 53), (35, 30), (57, 54), (58, 19), (68, 63), (15, 57), (61, 24), (7, 53), (27, 31), (30, 36), (50, 51), (62, 25), (8, 54), (54, 21), (20, 28), (60, 64), (52, 60), (31, 37), (34, 48), (53, 61), (46, 22), (37, 53), (16, 30), (56, 66), (26, 43), (38, 54), (49, 63), (42, 24), (27, 44), (39, 18), (30, 49), (31, 14), (23, 10), (84, 26), (75, 57), (41, 64), (33, 60), (24, 11), (76, 21), (22, 50), (68, 17), (14, 46), (34, 61), (77, 22), (68, 53), (69, 18), (15, 47), (27, 21), (18, 52), (30, 26), (8, 44), (12, 14), (64, 24), (10, 53), (34, 38), (53, 51), (65, 25), (57, 21), (3, 50), (49, 17), (15, 24), (7, 20), (18, 29), (59, 67), (50, 18), (8, 21), (40, 53), (19, 30), (41, 54), (60, 67), (33, 50), (34, 15), (52, 63), (25, 46), (45, 24), (37, 20), (34, 51), (26, 10), (46, 25), (37, 56), (38, 21), (78, 57), (79, 22), (70, 53), (36, 60), (26, 46), (27, 11), (79, 58), (30, 16), (71, 54), (63, 50), (29, 57), (75, 24), (21, 53), (33, 27), (72, 18), (10, 43), (14, 13), (34, 28), (22, 53), (68, 20), (15, 14), (55, 50), (26, 23), (67, 61), (29, 34), (60, 21), (6, 50), (11, 16), (52, 17), (63, 63), (10, 20), (62, 67), (33, 40), (53, 18), (56, 23), (22, 30), (14, 26), (36, 50), (82, 17), (55, 63), (28, 46), (48, 24), (40, 20), (83, 18), (29, 47), (21, 43), (40, 56), (41, 21), (33, 17), (25, 13), (44, 26), (22, 7), (34, 18), (74, 54), (66, 50), (32, 57), (37, 23), (78, 24), (24, 53), (70, 20), (36, 27), (26, 13), (67, 51), (18, 9), (59, 47), (79, 25), (70, 56), (71, 21), (17, 50), (63, 17), (36, 63), (9, 46), (28, 59), (29, 24), (54, 53), (33, 30), (32, 34), (35, 39), (14, 16), (55, 17), (66, 63), (13, 57), (59, 24), (17, 27), (36, 40), (55, 53), (28, 36), (5, 52), (58, 64), (50, 60), (29, 37), (52, 20), (85, 17), (31, 46), (51, 24), (86, 18), (32, 47), (51, 60), (24, 43), (35, 52), (36, 17), (28, 13), (47, 26), (82, 20), (28, 49), (29, 14), (21, 10), (40, 23), (81, 24), (73, 56), (74, 21), (20, 50), (66, 17), (39, 63), (12, 46), (31, 59), (32, 24), (35, 29), (67, 18), (70, 23), (16, 52), (57, 53), (36, 30), (28, 26), (68, 62), (58, 54), (69, 63), (62, 24), (8, 53), (54, 20), (31, 36), (23, 32), (13, 24), (53, 60), (32, 37), (16, 29), (35, 42), (55, 20), (38, 53), (17, 30), (57, 66), (49, 62), (27, 43), (39, 17), (30, 48), (50, 63), (39, 53), (85, 20), (31, 49), (32, 14), (23, 45), (24, 10), (43, 23), (35, 19), (34, 60), (16, 42), (36, 20), (76, 56), (77, 21), (28, 16), (68, 52), (69, 17), (15, 46), (80, 26), (18, 51), (69, 53), (61, 49), (73, 23), (19, 52), (30, 61), (31, 26), (13, 14), (32, 27), (65, 24), (16, 19), (56, 55), (35, 32), (14, 58), (58, 21), (9, 16), (49, 52), (50, 17), (61, 26), (8, 20), (19, 29), (30, 38), (54, 23), (41, 53), (20, 30), (60, 66), (52, 62), (31, 39), (34, 50), (53, 63), (46, 24), (37, 55), (38, 20), (56, 68), (26, 45), (27, 10), (38, 56), (79, 57), (30, 15), (71, 53), (42, 26), (27, 46), (20, 7), (39, 20), (30, 51), (31, 16), (23, 12), (75, 59), (34, 27), (72, 53), (64, 49), (76, 23), (22, 52), (68, 19), (26, 22), (67, 60), (57, 46), (69, 20), (7, 45), (27, 23), (18, 54), (11, 15), (30, 28), (63, 62), (33, 39), (12, 16), (52, 52), (53, 17), (64, 26), (10, 55), (56, 22), (22, 29), (34, 40), (53, 53), (57, 23), (49, 19), (15, 26), (55, 62), (18, 31), (59, 69), (83, 17), (29, 46), (40, 55), (84, 18), (33, 52), (34, 17), (25, 48), (44, 61), (45, 26), (37, 22), (26, 12), (67, 50), (59, 46), (38, 23), (78, 59), (79, 24), (70, 55), (71, 20), (36, 62), (28, 58), (27, 13), (18, 44), (19, 9), (30, 18), (71, 56), (63, 52), (29, 59), (75, 26), (33, 29), (72, 20), (10, 45), (14, 15), (34, 30), (66, 62), (14, 51), (15, 16), (55, 52), (26, 25), (67, 63), (29, 36), (21, 32), (60, 23), (6, 52), (52, 19), (33, 42), (53, 20), (44, 51), (86, 17), (56, 25), (43, 55), (22, 32), (14, 28), (36, 52), (82, 19), (55, 65), (28, 48), (29, 13), (47, 61), (48, 26), (40, 22), (83, 20), (29, 49), (21, 45), (40, 58), (41, 23), (33, 19), (73, 55), (39, 62), (22, 9), (74, 56), (66, 52), (67, 17), (13, 46), (32, 59), (78, 26), (70, 22), (16, 51), (36, 29), (28, 25), (18, 11), (59, 49), (71, 23), (17, 52), (63, 19), (9, 48), (28, 61), (29, 26), (69, 62), (54, 55), (25, 28), (32, 36), (24, 32), (35, 41), (14, 18), (55, 19), (59, 26), (17, 29), (36, 42), (28, 38), (47, 51), (58, 66), (50, 62), (39, 52), (44, 18), (85, 19), (31, 48), (51, 26), (43, 22), (86, 20), (32, 49), (24, 45), (16, 41), (35, 54), (36, 19), (28, 15), (17, 42), (77, 56), (29, 16), (69, 52), (21, 12), (61, 48), (40, 25), (81, 26), (73, 22), (30, 60), (62, 49), (73, 58), (74, 23), (20, 52), (66, 19), (13, 13), (31, 61), (32, 26), (16, 18), (35, 31), (67, 20), (70, 25), (16, 54), (17, 19), (57, 55), (36, 32), (49, 51), (28, 28), (68, 64), (50, 52), (62, 26), (54, 22), (20, 29), (31, 38), (13, 26), (53, 62), (32, 39), (16, 31), (56, 67), (35, 44), (55, 22), (47, 18), (38, 55), (57, 68), (49, 64), (42, 25), (27, 45), (39, 19), (30, 50), (31, 15), (42, 61), (75, 58), (85, 22), (31, 51), (32, 16), (23, 47), (24, 12), (43, 25), (35, 21), (65, 49), (76, 58), (77, 23), (28, 18), (68, 54), (69, 19), (27, 22), (18, 53), (58, 46), (30, 27), (61, 51), (8, 45), (73, 25), (19, 54), (12, 15), (31, 28), (34, 39), (13, 16), (53, 52), (4, 47), (65, 26), (16, 21), (57, 22), (3, 51), (58, 23), (49, 54), (50, 19), (19, 31), (30, 40), (84, 17), (54, 25), (41, 55), (20, 32), (33, 51), (60, 68), (52, 64), (44, 60), (34, 52), (45, 61), (46, 26), (37, 57), (38, 22), (80, 18), (26, 47), (27, 12), (18, 43), (19, 8), (30, 17), (71, 55), (63, 51), (29, 58), (19, 44), (20, 9), (39, 22), (31, 18), (72, 19), (75, 61), (34, 29), (72, 55), (64, 51), (56, 47), (76, 25), (22, 54), (68, 21), (15, 15), (26, 24), (67, 62), (15, 51), (61, 18), (7, 47), (27, 25), (11, 17), (30, 30), (63, 64), (33, 41), (52, 54), (53, 19), (56, 24), (22, 31), (14, 27), (34, 42), (45, 51), (57, 25), (49, 21), (15, 28), (55, 64), (47, 60), (83, 19), (29, 48), (48, 61), (21, 44), (40, 57), (41, 22), (84, 20), (33, 54), (34, 19), (74, 55), (25, 50), (44, 63), (37, 24), (22, 44), (26, 14), (67, 52), (18, 10), (59, 48), (79, 26), (71, 22), (17, 51), (28, 60), (19, 11), (71, 58), (29, 61), (60, 48), (33, 31), (72, 22), (64, 18), (10, 47), (14, 17), (66, 64), (36, 41), (15, 18), (55, 54), (67, 65), (59, 61), (29, 38), (48, 51), (60, 25), (52, 21), (44, 17), (33, 44), (45, 18), (86, 19), (32, 48), (51, 61), (35, 53), (14, 30), (17, 41), (36, 54), (82, 21), (28, 50), (29, 15), (47, 63), (21, 11), (40, 24), (29, 51), (75, 18), (21, 47), (62, 48), (41, 25), (33, 21), (73, 57), (74, 22), (39, 64), (31, 60), (22, 11), (74, 58), (66, 54), (67, 19), (32, 61), (70, 24), (16, 53), (17, 18), (36, 31), (28, 27), (71, 25), (17, 54), (58, 55), (63, 21), (9, 50), (29, 28), (69, 64), (13, 25), (32, 38), (51, 51), (35, 43), (55, 21), (47, 17), (17, 31), (57, 67), (36, 44), (28, 40), (48, 18), (58, 68), (50, 64), (42, 60), (39, 54), (85, 21), (31, 50), (32, 15), (23, 46), (43, 24), (35, 20), (86, 22), (32, 51), (78, 18), (24, 47), (16, 43), (35, 56), (36, 21), (76, 57), (28, 17), (77, 58), (29, 18), (69, 54), (61, 50), (73, 24), (19, 53), (31, 27), (62, 51), (74, 25), (20, 54), (66, 21), (13, 15), (32, 28), (16, 20), (35, 33), (59, 18), (65, 61), (17, 21), (58, 22), (9, 17), (49, 53), (28, 30), (30, 39), (50, 54), (61, 63), (54, 24), (20, 31), (31, 40), (51, 18), (13, 28), (53, 64), (45, 60), (47, 20), (80, 17), (46, 61), (38, 57), (81, 18), (27, 47), (19, 43), (20, 8), (39, 21), (30, 52), (31, 17), (75, 60), (20, 44), (32, 18), (72, 54), (64, 50), (16, 10), (35, 23), (76, 24), (65, 51), (17, 11), (57, 47), (76, 60), (77, 25), (69, 21), (61, 17), (7, 46), (27, 24), (30, 29), (62, 18), (8, 47), (11, 52), (12, 17), (52, 53), (31, 30), (34, 41), (13, 18), (53, 54), (64, 63), (16, 23), (57, 24), (49, 20), (15, 27), (46, 51), (18, 32), (58, 25), (50, 21), (42, 17), (48, 60), (30, 42), (84, 19), (33, 53), (25, 49), (44, 62), (22, 43), (34, 54), (45, 63), (37, 59), (38, 24), (15, 40), (80, 20), (26, 49), (27, 14), (18, 45), (19, 10), (30, 19), (71, 57), (63, 53), (29, 60), (20, 11), (60, 47), (11, 42), (31, 20), (72, 21), (64, 17), (10, 46), (34, 31), (64, 53), (65, 18), (56, 49), (68, 23), (14, 52), (15, 17), (26, 26), (67, 64), (7, 49), (27, 27), (60, 24), (6, 53), (11, 19), (30, 32), (63, 66), (33, 43), (53, 21), (44, 52), (45, 17), (56, 26), (14, 29), (34, 44), (46, 18), (49, 23), (36, 53), (15, 30), (55, 66), (47, 62), (83, 21), (29, 50), (75, 17), (48, 63), (21, 46), (40, 59), (41, 24), (33, 20), (22, 10), (33, 56), (34, 21), (74, 57), (25, 52), (66, 53), (32, 60), (37, 26), (22, 46), (14, 42), (67, 54), (18, 12), (59, 50), (70, 59), (71, 24), (17, 53), (63, 20), (29, 27), (33, 33), (25, 29), (64, 20), (14, 19), (36, 43), (28, 39), (47, 52), (48, 17), (59, 63), (58, 67), (29, 40), (48, 53), (52, 23), (44, 19), (86, 21), (32, 50), (78, 17), (51, 63), (24, 46), (35, 55), (79, 18), (17, 43), (36, 56), (77, 57), (82, 23), (28, 52), (29, 17), (40, 26), (62, 50), (33, 23), (73, 59), (74, 24), (20, 53), (66, 20), (74, 60), (67, 21), (59, 17), (70, 26), (16, 55), (17, 20), (36, 33), (28, 29), (17, 56), (63, 23), (9, 52), (50, 53), (29, 30), (6, 46), (10, 16), (51, 17), (62, 63), (13, 27), (32, 40), (51, 53), (16, 32), (35, 45), (55, 23), (47, 19), (46, 60), (57, 69), (28, 42), (48, 20), (81, 17), (42, 62), (20, 43), (25, 9), (39, 56), (85, 23), (31, 52), (32, 17), (43, 26), (35, 22), (78, 20), (65, 50), (16, 45), (17, 10), (35, 58), (36, 23), (76, 59), (77, 24), (28, 19), (68, 55), (58, 47), (77, 60), (69, 56), (61, 52), (62, 17), (8, 46), (73, 26), (11, 51), (31, 29), (66, 23), (12, 52), (13, 17), (4, 48), (32, 30), (64, 62), (16, 22), (35, 35), (65, 63), (17, 23), (58, 24), (9, 19), (49, 55), (50, 20), (19, 32), (30, 41), (42, 52), (54, 26), (31, 42), (51, 20), (34, 53), (45, 62), (37, 58), (80, 19), (26, 48), (46, 63), (38, 59), (81, 20), (27, 49), (19, 45), (20, 10), (39, 23), (30, 54), (31, 19), (12, 42), (32, 20), (72, 56), (64, 52), (65, 17), (16, 12), (56, 48), (35, 25), (76, 26), (68, 22), (65, 53), (57, 49), (69, 23), (15, 52), (61, 19), (7, 48), (27, 26), (11, 18), (30, 31), (63, 65), (62, 20), (8, 49), (11, 54), (12, 19), (52, 55), (31, 32), (23, 28), (34, 43), (45, 52), (46, 17), (64, 65), (56, 61), (57, 26), (49, 22), (15, 29), (50, 23), (42, 19), (48, 62), (30, 44), (84, 21), (33, 55), (34, 20), (25, 51), (44, 64), (37, 25), (22, 45), (14, 41), (34, 56), (67, 53), (37, 61), (38, 26), (77, 17), (15, 42), (80, 22), (26, 51), (18, 47), (19, 12), (30, 21), (71, 59), (20, 13), (33, 32), (60, 49), (72, 23), (64, 19), (10, 48), (34, 33), (66, 65), (65, 20), (56, 51), (68, 25), (14, 54), (15, 19), (55, 55), (26, 28), (59, 62), (29, 39), (48, 52), (60, 26), (11, 21), (52, 22), (33, 45), (53, 23), (44, 54), (45, 19), (51, 62), (14, 31), (46, 20), (79, 17), (49, 25), (36, 55), (82, 22), (15, 32), (28, 51), (47, 64), (83, 23), (29, 52), (75, 19), (40, 61), (41, 26), (33, 22), (34, 23), (74, 59), (25, 54), (14, 44), (18, 14), (59, 52), (70, 61), (71, 26), (17, 55), (63, 22), (9, 51), (29, 29), (6, 45), (10, 15), (33, 35), (25, 31), (10, 51), (51, 52), (56, 18), (14, 21), (17, 32), (36, 45), (28, 41), (47, 54), (48, 19), (58, 69), (29, 42), (40, 51), (52, 25), (25, 8), (39, 55), (44, 21), (86, 23), (32, 52), (78, 19), (43, 61), (16, 44), (35, 57), (36, 22), (79, 20), (17, 45), (36, 58), (77, 59), (82, 25), (28, 54), (29, 19), (69, 55), (62, 52), (73, 61), (74, 26), (66, 22), (12, 51), (32, 29), (35, 34), (67, 23), (13, 52), (59, 19), (65, 62), (16, 57), (17, 22), (36, 35), (9, 18), (55, 48), (28, 31), (5, 47), (9, 54), (50, 55), (42, 51), (21, 28), (61, 64), (31, 41), (10, 18), (51, 19), (62, 65), (54, 61), (13, 29), (32, 42), (51, 55), (43, 51), (35, 47), (55, 25), (47, 21), (46, 62), (38, 58), (28, 44), (40, 18), (81, 19), (27, 48), (30, 53), (42, 64), (20, 45), (39, 58), (85, 25), (31, 54), (32, 19), (23, 50), (16, 11), (35, 24), (13, 42), (24, 51), (65, 52), (70, 18), (16, 47), (17, 12), (57, 48), (36, 25), (77, 26), (28, 21), (69, 22), (58, 49), (62, 19), (8, 48), (11, 53), (12, 18), (31, 31), (66, 25), (12, 54), (13, 19), (53, 55), (4, 50), (32, 32), (24, 28), (64, 64), (16, 24), (56, 60), (35, 37), (46, 52), (65, 65), (57, 61), (58, 26), (9, 21), (50, 22), (42, 18), (30, 43), (42, 54), (31, 44), (51, 22), (43, 18), (34, 55), (45, 64), (37, 60), (38, 25), (28, 11), (15, 41), (80, 21), (26, 50), (27, 15), (18, 46), (38, 61), (30, 20), (81, 22), (27, 51), (73, 18), (19, 47), (20, 12), (11, 43), (39, 25), (30, 56), (31, 21), (34, 32), (72, 58), (65, 19), (16, 14), (56, 50), (68, 24), (14, 53), (26, 27), (57, 51), (69, 25), (15, 54), (61, 21), (7, 50), (27, 28), (11, 20), (30, 33), (63, 67), (54, 18), (12, 21), (53, 22), (44, 53), (23, 30), (34, 45), (45, 54), (46, 19), (56, 63), (49, 24), (15, 31), (50, 25), (42, 21), (83, 22), (48, 64), (40, 60), (23, 7), (84, 23), (75, 54), (41, 61), (33, 57), (34, 22), (25, 53), (76, 18), (22, 47), (14, 43), (67, 55), (18, 13), (59, 51), (70, 60), (15, 44), (27, 18), (30, 23), (71, 61), (60, 51), (33, 34), (25, 30), (72, 25), (64, 21), (10, 50), (56, 17), (14, 20), (34, 35), (65, 22), (57, 18), (3, 47), (14, 56), (15, 21), (47, 53), (26, 30), (59, 64), (29, 41), (8, 18), (48, 54), (52, 24), (44, 20), (41, 51), (33, 47), (25, 43), (53, 25), (45, 21), (37, 17), (51, 64), (43, 60), (38, 18), (79, 19), (17, 44), (36, 57), (82, 24), (28, 53), (30, 13), (83, 25), (29, 54), (75, 21), (21, 50), (40, 63), (33, 24), (73, 60), (34, 25), (74, 61), (67, 22), (16, 56), (36, 34), (15, 11), (26, 20), (59, 54), (5, 46), (70, 63), (17, 57), (63, 24), (9, 53), (29, 31), (60, 18), (6, 47), (10, 17), (62, 64), (54, 60), (33, 37), (32, 41), (51, 54), (56, 20), (2, 49), (35, 46), (14, 23), (55, 24), (36, 47), (55, 60), (28, 43), (48, 21), (40, 17), (29, 44), (42, 63), (41, 18), (25, 10), (39, 57), (44, 23), (85, 24), (31, 53), (13, 41), (86, 25), (32, 54), (78, 21), (24, 50), (70, 17), (43, 63), (16, 46), (35, 59), (36, 24), (28, 20), (71, 18), (17, 47), (58, 48), (28, 56), (29, 21), (66, 24), (12, 53), (4, 49), (32, 31), (35, 36), (67, 25), (13, 54), (59, 21), (65, 64), (17, 24), (57, 60), (36, 37), (9, 20), (28, 33), (5, 49), (58, 61), (42, 53), (21, 30), (61, 66), (31, 43), (51, 21), (43, 17), (54, 63), (32, 44), (43, 53), (35, 49), (28, 10), (47, 23), (46, 64), (38, 60), (29, 11), (21, 7), (81, 21), (27, 50), (73, 17), (19, 46), (39, 24), (30, 55), (73, 53), (74, 18), (20, 47), (39, 60), (12, 43), (31, 56), (32, 21), (72, 57), (23, 52), (16, 13), (35, 26), (13, 44), (65, 54), (17, 14), (57, 50), (28, 23), (69, 24), (15, 53), (61, 20), (58, 51), (69, 60), (62, 21), (8, 50), (54, 17), (11, 55), (12, 20), (31, 33), (23, 29), (12, 56), (13, 21), (45, 53), (24, 30), (64, 66), (16, 26), (56, 62), (46, 54), (57, 63), (50, 24), (42, 20), (30, 45), (23, 6), (84, 22), (41, 60), (24, 7), (43, 20), (35, 16), (76, 17), (34, 57), (37, 62), (77, 18), (15, 43), (80, 23), (26, 52), (19, 13), (38, 63), (30, 22), (71, 60), (27, 53), (73, 20), (60, 50), (11, 45), (30, 58), (31, 23), (72, 24), (34, 34), (72, 60), (65, 21), (16, 16), (56, 52), (57, 17), (68, 26), (14, 55), (15, 20), (26, 29), (58, 18), (15, 56), (61, 23), (7, 52), (8, 17), (27, 30), (30, 35), (33, 46), (53, 24), (44, 55), (45, 20), (34, 47), (46, 21), (37, 52), (38, 17), (56, 65), (49, 26), (30, 12), (42, 23), (83, 24), (29, 53), (75, 20), (40, 62), (31, 13), (23, 9), (84, 25), (75, 56), (41, 63), (33, 59), (34, 24), (76, 20), (14, 45), (26, 19), (59, 53), (70, 62), (27, 20), (60, 17), (30, 25), (71, 63), (33, 36), (25, 32), (64, 23), (10, 52), (56, 19), (2, 48), (14, 22), (34, 37), (57, 20), (3, 49), (36, 46), (15, 23), (7, 19), (47, 55), (26, 32), (18, 28), (59, 66), (29, 43), (40, 52), (41, 17), (52, 26), (44, 22), (33, 49), (25, 45), (45, 23), (86, 24), (32, 53), (37, 19), (43, 62), (26, 9), (78, 56), (79, 21), (70, 52), (71, 17), (17, 46), (36, 59), (82, 26), (28, 55), (29, 20), (63, 49), (29, 56), (75, 23), (21, 52), (33, 26), (73, 62), (72, 17), (14, 12), (67, 24), (13, 53), (59, 20), (16, 58), (36, 36), (15, 13), (28, 32), (55, 49), (5, 48), (58, 60), (63, 26), (29, 33), (21, 29), (61, 65), (60, 20), (6, 49), (10, 19), (62, 66), (54, 62), (32, 43), (43, 52), (35, 48), (14, 25), (55, 26), (47, 22), (36, 49), (28, 45), (48, 23), (21, 6), (40, 19), (41, 20), (33, 16), (74, 17), (20, 46), (25, 12), (39, 59), (44, 25), (85, 26), (31, 55), (23, 51), (22, 6), (13, 43), (32, 56), (78, 23), (24, 52), (70, 19), (17, 13), (35, 61), (36, 26), (28, 22), (58, 50), (9, 45), (29, 23), (69, 59), (54, 52), (66, 26), (12, 55), (13, 20), (4, 51), (32, 33), (24, 29), (16, 25), (35, 38), (13, 56), (59, 23), (46, 53), (65, 66), (17, 26), (57, 62), (36, 39), (28, 35), (5, 51), (58, 63), (42, 55), (61, 68), (31, 45), (51, 23), (43, 19), (32, 46), (35, 51), (28, 12), (47, 25), (38, 62), (21, 9), (81, 23), (27, 52), (73, 19), (11, 44), (39, 26), (30, 57), (31, 22), (74, 20), (12, 45), (31, 58), (32, 23), (72, 59), (23, 54), (16, 15), (35, 28), (57, 52), (58, 17), (68, 61), (69, 26), (15, 55), (61, 22), (7, 51), (27, 29), (58, 53), (30, 34), (62, 23), (8, 52), (54, 19), (31, 35), (23, 31), (34, 46), (13, 23), (45, 55), (37, 51), (16, 28), (56, 64), (38, 52), (57, 65), (49, 61), (50, 26), (42, 22), (30, 47), (23, 8), (84, 24), (75, 55), (41, 62), (33, 58), (23, 44), (24, 9), (35, 18), (76, 19), (34, 59), (37, 64), (76, 55), (77, 20), (68, 51), (15, 45), (80, 25), (26, 54), (27, 19), (18, 50), (30, 24), (71, 62), (19, 51), (11, 47), (31, 25), (72, 26), (64, 22), (34, 36), (72, 62), (65, 23), (56, 54), (57, 19), (3, 48), (14, 57), (15, 22), (7, 18), (26, 31), (59, 65), (58, 20), (15, 58), (61, 25), (8, 19), (48, 55), (27, 32), (19, 28), (30, 37), (41, 52), (60, 65), (33, 48), (52, 61), (25, 44), (53, 26), (45, 22), (37, 18), (34, 49), (46, 23), (37, 54), (38, 19), (26, 44), (27, 9), (30, 14), (71, 52), (63, 48), (83, 26), (29, 55), (75, 22), (21, 51), (40, 64), (33, 25), (23, 11), (33, 61), (34, 26), (76, 22), (22, 51), (68, 18), (14, 47), (15, 12)}\n",
      "Layer Coordinates: deque([(87, 15), (87, 16), (87, 17), (87, 18), (87, 19), (87, 20), (87, 21), (87, 22), (87, 23), (87, 24), (87, 25), (87, 26), (87, 27), (87, 28), (87, 29), (87, 30), (87, 31)])\n"
     ]
    }
   ],
   "source": [
    "print(\"Already Covered Coordinates:\", already_covered_coords)\n",
    "print(\"possible_places_coords:\", possible_places_coords)\n",
    "print(\"Layer Coordinates:\", to_cover_next_layer_coords)"
   ]
  },
  {
   "cell_type": "code",
   "execution_count": 13,
   "id": "c0e8ed19",
   "metadata": {},
   "outputs": [],
   "source": [
    "for i in range(len(to_cover_next_layer_coords)):\n",
    "    item=to_cover_next_layer_coords.popleft()\n",
    "    possible_children = [\n",
    "        (item[0], item[1] + 1), (item[0], item[1] - 1),\n",
    "        (item[0] - 1, item[1]), (item[0] + 1, item[1]),\n",
    "        (item[0] - 1, item[1] - 1), (item[0] - 1, item[1] + 1),\n",
    "        (item[0] + 1, item[1] - 1), (item[0] + 1, item[1] + 1)\n",
    "    ]\n",
    "    for child in possible_children:\n",
    "        if child in possible_places_coords and child not in already_covered_coords:\n",
    "            to_cover_next_layer_coords.append(child)\n",
    "            already_covered_coords.add(child)\n"
   ]
  },
  {
   "cell_type": "code",
   "execution_count": 14,
   "id": "a11373ef",
   "metadata": {},
   "outputs": [
    {
     "name": "stdout",
     "output_type": "stream",
     "text": [
      "To Cover Coordinates: deque([(86, 17), (86, 18), (86, 19), (86, 20), (86, 21), (86, 22), (86, 23), (86, 24), (86, 25), (86, 26)])\n",
      "Already Covered Coordinates: {(86, 21), (86, 24), (86, 20), (86, 17), (86, 23), (86, 26), (86, 22), (86, 19), (86, 25), (86, 18)}\n"
     ]
    }
   ],
   "source": [
    "print(\"To Cover Coordinates:\", to_cover_next_layer_coords)\n",
    "print(\"Already Covered Coordinates:\", already_covered_coords)"
   ]
  },
  {
   "cell_type": "code",
   "execution_count": 205,
   "id": "a3125845",
   "metadata": {},
   "outputs": [
    {
     "name": "stdout",
     "output_type": "stream",
     "text": [
      "Image saved as 'result.png'\n"
     ]
    }
   ],
   "source": [
    "# Create a new image to visualize the current state\n",
    "if height is None or width is None:\n",
    "    height = max(max(coord[0] for coord in already_covered_coords), \n",
    "                max(coord[0] for coord in possible_places_coords)) + 1\n",
    "    width = max(max(coord[1] for coord in already_covered_coords), \n",
    "                max(coord[1] for coord in possible_places_coords)) + 1\n",
    "\n",
    "# Create white background\n",
    "result_img = np.full((height, width, 3), 255, dtype=np.uint8)\n",
    "\n",
    "# Set colors for each coordinate set\n",
    "for coord in possible_places_coords:\n",
    "    result_img[coord[0], coord[1]] = possible_places\n",
    "\n",
    "for coord in already_covered_coords:\n",
    "    result_img[coord[0], coord[1]] = already_covered\n",
    "\n",
    "for coord in to_cover_next_layer_coords:\n",
    "    result_img[coord[0], coord[1]] = to_cover_next_layer\n",
    "\n",
    "# Convert to PIL Image and save\n",
    "result_image = Image.fromarray(result_img)\n",
    "result_image.save(\"result.png\")\n",
    "print(\"Image saved as 'result.png'\")"
   ]
  },
  {
   "cell_type": "code",
   "execution_count": 206,
   "id": "e49b20f4",
   "metadata": {},
   "outputs": [],
   "source": [
    "def scale_image_no_interpolation(input_path, output_path, scale_factor):\n",
    "    \"\"\"\n",
    "    Scales an image by an integer factor without interpolation (nearest neighbor).\n",
    "    Args:\n",
    "        input_path (str): Path to the input image.\n",
    "        output_path (str): Path to save the scaled image.\n",
    "        scale_factor (int): Scaling factor (must be >= 1).\n",
    "    Returns:\n",
    "        str: Path to the saved scaled image.\n",
    "    \"\"\"\n",
    "    img = Image.open(input_path)\n",
    "    img = img.convert(\"RGB\")\n",
    "    arr = np.array(img)\n",
    "    scaled_arr = np.repeat(np.repeat(arr, scale_factor, axis=0), scale_factor, axis=1)\n",
    "    scaled_img = Image.fromarray(scaled_arr)\n",
    "    scaled_img.save(output_path)\n",
    "    return output_path"
   ]
  },
  {
   "cell_type": "code",
   "execution_count": 207,
   "id": "11af3e57",
   "metadata": {},
   "outputs": [
    {
     "data": {
      "text/plain": [
       "'scaled_result.png'"
      ]
     },
     "execution_count": 207,
     "metadata": {},
     "output_type": "execute_result"
    }
   ],
   "source": [
    "scale_image_no_interpolation(\"result.png\", \"scaled_result.png\", 10)"
   ]
  },
  {
   "cell_type": "code",
   "execution_count": 220,
   "id": "675f044d",
   "metadata": {},
   "outputs": [
    {
     "name": "stdout",
     "output_type": "stream",
     "text": [
      "Pulling model 'qwen2.5vl:7b' (if needed)...\n",
      "Sending chat message...\n",
      "Response: The images you've provided appear to be pixel art, which is a style of digital art where images are created using pixels, the smallest units of color in a digital image. The first image seems to depict a stylized figure or character, possibly a robot or a mechanical entity, with a prominent arm or limb extending upwards. The second image is similar but includes additional details, such as green elements near the base of the figure, which could represent a base or platform. Both images are quite abstract and could be interpreted in various ways depending on the context or the artist's intent.\n",
      "Response: The images you've provided appear to be pixel art, which is a style of digital art where images are created using pixels, the smallest units of color in a digital image. The first image seems to depict a stylized figure or character, possibly a robot or a mechanical entity, with a prominent arm or limb extending upwards. The second image is similar but includes additional details, such as green elements near the base of the figure, which could represent a base or platform. Both images are quite abstract and could be interpreted in various ways depending on the context or the artist's intent.\n",
      "Response: The images you've provided appear to be pixel art, which is a style of digital art where images are created using pixels, the smallest units of color in a digital image. The first image seems to depict a stylized figure or character, possibly a robot or a mechanical entity, with a prominent arm or limb extending upwards. The second image is similar but includes additional details, such as green elements near the base of the figure, which could represent a base or platform. Both images are quite abstract and could be interpreted in various ways depending on the context or the artist's intent.\n",
      "Response: The images you've provided appear to be pixel art, which is a style of digital art where images are created using pixels, the smallest units of color in a digital image. The first image seems to depict a stylized figure or character, possibly a robot or a mechanical entity, with a prominent arm or limb extending upwards. The second image is similar but includes additional details, such as green elements near the base of the figure, which could represent a base or platform. Both images are quite abstract and could be interpreted in various ways depending on the context or the artist's intent.\n",
      "Response: The images you've provided appear to be pixel art, which is a style of digital art where images are created using pixels, the smallest units of color in a digital image. The first image seems to depict a stylized figure or character, possibly a robot or a mechanical entity, with a prominent arm or limb extending upwards. The second image is similar but includes additional details, such as green elements near the base of the figure, which could represent a base or platform. Both images are quite abstract and could be interpreted in various ways depending on the context or the artist's intent.\n",
      "Response: The images you've provided appear to be pixel art, which is a style of digital art where images are created using pixels, the smallest units of color in a digital image. The first image seems to depict a stylized figure or character, possibly a robot or a mechanical entity, with a prominent arm or limb extending upwards. The second image is similar but includes additional details, such as green elements near the base of the figure, which could represent a base or platform. Both images are quite abstract and could be interpreted in various ways depending on the context or the artist's intent.\n",
      "Response: The images you've provided appear to be pixel art, which is a style of digital art where images are created using pixels, the smallest units of color in a digital image. The first image seems to depict a stylized figure or character, possibly a robot or a mechanical entity, with a prominent arm or limb extending upwards. The second image is similar but includes additional details, such as green elements near the base of the figure, which could represent a base or platform. Both images are quite abstract and could be interpreted in various ways depending on the context or the artist's intent.\n",
      "Response: The images you've provided appear to be pixel art, which is a style of digital art where images are created using pixels, the smallest units of color in a digital image. The first image seems to depict a stylized figure or character, possibly a robot or a mechanical entity, with a prominent arm or limb extending upwards. The second image is similar but includes additional details, such as green elements near the base of the figure, which could represent a base or platform. Both images are quite abstract and could be interpreted in various ways depending on the context or the artist's intent.\n",
      "Response: The images you've provided appear to be pixel art, which is a style of digital art where images are created using pixels, the smallest units of color in a digital image. The first image seems to depict a stylized figure or character, possibly a robot or a mechanical entity, with a prominent arm or limb extending upwards. The second image is similar but includes additional details, such as green elements near the base of the figure, which could represent a base or platform. Both images are quite abstract and could be interpreted in various ways depending on the context or the artist's intent.\n",
      "Response: The images you've provided appear to be pixel art, which is a style of digital art where images are created using pixels, the smallest units of color in a digital image. The first image seems to depict a stylized figure or character, possibly a robot or a mechanical entity, with a prominent arm or limb extending upwards. The second image is similar but includes additional details, such as green elements near the base of the figure, which could represent a base or platform. Both images are quite abstract and could be interpreted in various ways depending on the context or the artist's intent.\n"
     ]
    }
   ],
   "source": [
    "import subprocess\n",
    "import requests\n",
    "import time\n",
    "import ollama\n",
    "\n",
    "OLLAMA_URL = \"http://localhost:11434\"\n",
    "\n",
    "def is_ollama_running():\n",
    "    try:\n",
    "        response = requests.get(OLLAMA_URL)\n",
    "        return response.status_code == 200\n",
    "    except requests.exceptions.ConnectionError:\n",
    "        return False\n",
    "\n",
    "def start_ollama_daemon():\n",
    "    # This assumes 'ollama' is in your system PATH\n",
    "    subprocess.Popen(['ollama', 'serve'], stdout=subprocess.DEVNULL, stderr=subprocess.DEVNULL)\n",
    "\n",
    "def pull_model(model_name):\n",
    "    subprocess.run(['ollama', 'pull', model_name])\n",
    "\n",
    "def wait_for_server(timeout=15):\n",
    "    for _ in range(timeout):\n",
    "        if is_ollama_running():\n",
    "            return True\n",
    "        time.sleep(1)\n",
    "    return False\n",
    "\n",
    "# --- Main automation flow ---\n",
    "model = 'qwen2.5vl:7b'\n",
    "\n",
    "if not is_ollama_running():\n",
    "    print(\"Starting Ollama server...\")\n",
    "    start_ollama_daemon()\n",
    "    if not wait_for_server():\n",
    "        raise RuntimeError(\"Ollama server did not start in time.\")\n",
    "\n",
    "print(f\"Pulling model '{model}' (if needed)...\")\n",
    "pull_model(model)\n",
    "\n",
    "print(\"Sending chat message...\")\n",
    "for i in range(10):\n",
    "    response = ollama.chat(\n",
    "        model=model,\n",
    "        messages=[\n",
    "            {'role': 'user', 'content': 'What are these images?', 'images': ['./result.png', './scaled_result.png']},\n",
    "            \n",
    "        ]\n",
    "    )\n",
    "\n",
    "    print(\"Response:\", response['message']['content'])\n"
   ]
  },
  {
   "cell_type": "code",
   "execution_count": 17,
   "id": "f3b33d79",
   "metadata": {},
   "outputs": [
    {
     "name": "stdout",
     "output_type": "stream",
     "text": [
      "Numbered Groups: \n",
      "0: [(78, 59), (79, 59), (79, 58)]\n",
      "1: [(74, 65), (74, 66), (74, 64), (74, 63), (74, 62)]\n"
     ]
    }
   ],
   "source": [
    "green_groups = [[(78, 59), (79, 59), (79, 58)], [(74, 65), (74, 66), (74, 64), (74, 63), (74, 62)]]\n",
    "\n",
    "numbered_groups = {i: group for i, group in enumerate(green_groups)}\n",
    "numbered_groups_string = '\\n'+'\\n'.join(f\"{i}: {group}\" for i, group in numbered_groups.items())\n",
    "\n",
    "print(\"Numbered Groups:\", numbered_groups_string)"
   ]
  }
 ],
 "metadata": {
  "kernelspec": {
   "display_name": "Python 3",
   "language": "python",
   "name": "python3"
  },
  "language_info": {
   "codemirror_mode": {
    "name": "ipython",
    "version": 3
   },
   "file_extension": ".py",
   "mimetype": "text/x-python",
   "name": "python",
   "nbconvert_exporter": "python",
   "pygments_lexer": "ipython3",
   "version": "3.13.5"
  }
 },
 "nbformat": 4,
 "nbformat_minor": 5
}
